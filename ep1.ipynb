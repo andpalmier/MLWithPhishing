{
 "cells": [
  {
   "cell_type": "markdown",
   "metadata": {},
   "source": [
    "## A simple but effective decision tree\n",
    "\n",
    "\n",
    "Let's start with importing the libraries and the data:"
   ]
  },
  {
   "cell_type": "code",
   "execution_count": 1,
   "metadata": {},
   "outputs": [],
   "source": [
    "import numpy as np\n",
    "from sklearn import tree\n",
    "\n",
    "# Load the training data from a CSV file\n",
    "training_data = np.genfromtxt('phishing.csv', delimiter=',', dtype=np.int32)"
   ]
  },
  {
   "cell_type": "markdown",
   "metadata": {},
   "source": [
    "The csv has 10.000 samples with 49 rows, where the last one is the label of the sample, while the other values are the features.\n"
   ]
  },
  {
   "cell_type": "code",
   "execution_count": 2,
   "metadata": {},
   "outputs": [],
   "source": [
    "# inputs are in all columns except the last one\n",
    "inputs = training_data[:,:-1]\n",
    "\n",
    "# outputs in the last column\n",
    "outputs = training_data[:, -1]"
   ]
  },
  {
   "cell_type": "markdown",
   "metadata": {},
   "source": [
    "Now we split the data in the training and test sets: for now, I will use 8.000 of the samples for training and 2.000 for the test.\n"
   ]
  },
  {
   "cell_type": "code",
   "execution_count": 24,
   "metadata": {},
   "outputs": [],
   "source": [
    "# separate training (70%) and test data (30%)\n",
    "training_inputs = inputs[:7000]\n",
    "training_outputs = outputs[:7000]\n",
    "test_inputs = inputs[7000:]\n",
    "test_outputs = outputs[7000:]"
   ]
  },
  {
   "cell_type": "markdown",
   "metadata": {},
   "source": [
    "Here is one of the reasons why I like working with sklearn: we can create a classifier in few lines. Here is the code for a decision tree with default parameters:\n"
   ]
  },
  {
   "cell_type": "code",
   "execution_count": 4,
   "metadata": {},
   "outputs": [
    {
     "data": {
      "text/plain": [
       "DecisionTreeClassifier(ccp_alpha=0.0, class_weight=None, criterion='gini',\n",
       "                       max_depth=None, max_features=None, max_leaf_nodes=None,\n",
       "                       min_impurity_decrease=0.0, min_impurity_split=None,\n",
       "                       min_samples_leaf=1, min_samples_split=2,\n",
       "                       min_weight_fraction_leaf=0.0, presort='deprecated',\n",
       "                       random_state=None, splitter='best')"
      ]
     },
     "execution_count": 4,
     "metadata": {},
     "output_type": "execute_result"
    }
   ],
   "source": [
    "# Create a decision tree classifier with default parameters\n",
    "classifier = tree.DecisionTreeClassifier()\n",
    "\n",
    "# Train the classifier\n",
    "classifier.fit(training_inputs, training_outputs)"
   ]
  },
  {
   "cell_type": "markdown",
   "metadata": {},
   "source": [
    "Now that we have a classifier, let's try to use it to make predictions on the test data.\n"
   ]
  },
  {
   "cell_type": "code",
   "execution_count": 5,
   "metadata": {},
   "outputs": [],
   "source": [
    "# Use the trained classifier to make predictions on the test data\n",
    "predictions = classifier.predict(test_inputs)"
   ]
  },
  {
   "cell_type": "markdown",
   "metadata": {},
   "source": [
    "In order to evaluate how good is our classifier, I will use AUC (Area Under Curve), you can find more information about it [in this video](https://www.youtube.com/watch?v=OAl6eAyP-yo).\n"
   ]
  },
  {
   "cell_type": "code",
   "execution_count": 6,
   "metadata": {},
   "outputs": [
    {
     "name": "stdout",
     "output_type": "stream",
     "text": [
      "ROC AUC:  0.9443533820684948\n"
     ]
    }
   ],
   "source": [
    "# importing metrics\n",
    "import sklearn.metrics as metrics\n",
    "\n",
    "false_positive_rate, true_positive_rate, thresholds = metrics.roc_curve(test_outputs, predictions)\n",
    "ROC_AUC = metrics.auc(false_positive_rate, true_positive_rate)\n",
    "print(\"ROC AUC: \", str(ROC_AUC))"
   ]
  },
  {
   "cell_type": "markdown",
   "metadata": {},
   "source": [
    "Not bad, but we can probably improve the results with some tuning"
   ]
  },
  {
   "cell_type": "markdown",
   "metadata": {},
   "source": [
    "## Training/test set tuning\n",
    "\n",
    "Let's change the size of the training and test sets to see how this affects the performance of the classifier. The classifier will be tested with the following configurations:\n",
    "- 10% training, 90% test\n",
    "- 20% training, 80% test\n",
    "- 30% training, 70% test\n",
    "- 40% training, 60% test\n",
    "- 50% training, 50% test\n",
    "- 60% training, 40% test\n",
    "- 70% training, 30% test\n",
    "- 80% training, 20% test\n",
    "- 90% training, 10% test"
   ]
  },
  {
   "cell_type": "code",
   "execution_count": 34,
   "metadata": {},
   "outputs": [],
   "source": [
    "split_sets = [10,20,30,40,50,60,70,80,90]\n",
    "\n",
    "# save the training and test performance for every iteration\n",
    "test_results = []\n",
    "training_results = []"
   ]
  },
  {
   "cell_type": "markdown",
   "metadata": {},
   "source": [
    "Now, for every option in the `split_sets` array, let's train a classifier and store the results.\n"
   ]
  },
  {
   "cell_type": "code",
   "execution_count": 35,
   "metadata": {},
   "outputs": [],
   "source": [
    "for split in split_sets:\n",
    "\n",
    "    # spliting the sets based on the split value\n",
    "    training_inputs = inputs[:split*100]\n",
    "    training_outputs = outputs[:split*100]\n",
    "    test_inputs = inputs[split*100:]\n",
    "    test_outputs = outputs[split*100:]\n",
    "\n",
    "    # build and train the classifier\n",
    "    classifier = tree.DecisionTreeClassifier()\n",
    "    classifier.fit(training_inputs, training_outputs)\n",
    "\n",
    "    # predict samples from training set\n",
    "    training_predictions = classifier.predict(training_inputs)\n",
    "    false_positive_rate, true_positive_rate, thresholds = \\\n",
    "        metrics.roc_curve(training_outputs, training_predictions)\n",
    "    training_roc_auc = metrics.auc(false_positive_rate, true_positive_rate)\n",
    "\n",
    "    # append training result to the list\n",
    "    training_results.append(training_roc_auc)\n",
    "\n",
    "    # predict samples from test set\n",
    "    predictions = classifier.predict(test_inputs)\n",
    "    false_positive_rate, true_positive_rate, thresholds = \\\n",
    "        metrics.roc_curve(test_outputs, predictions)\n",
    "    test_roc_auc = metrics.auc(false_positive_rate, true_positive_rate)\n",
    "\n",
    "    # append test result to the list\n",
    "    test_results.append(test_roc_auc)"
   ]
  },
  {
   "cell_type": "markdown",
   "metadata": {},
   "source": [
    "In order to visualize the results, I will use `matplotlib` to draw a line chart.\n"
   ]
  },
  {
   "cell_type": "code",
   "execution_count": 36,
   "metadata": {},
   "outputs": [],
   "source": [
    "from matplotlib.legend_handler import HandlerLine2D\n",
    "import matplotlib.pyplot as plt"
   ]
  },
  {
   "cell_type": "markdown",
   "metadata": {},
   "source": [
    "Now, let's draw the lines for the AUC score in the training and test sets:\n"
   ]
  },
  {
   "cell_type": "code",
   "execution_count": 37,
   "metadata": {},
   "outputs": [
    {
     "data": {
      "image/png": "[encoded data removed]",
      "text/plain": [
       "<Figure size 432x288 with 1 Axes>"
      ]
     },
     "metadata": {
      "needs_background": "light"
     },
     "output_type": "display_data"
    }
   ],
   "source": [
    "# a blue line for the training results\n",
    "line1, = plt.plot(split_sets, training_results, 'b', label='Train AUC')\n",
    "\n",
    "# a red line for the test results\n",
    "line2, = plt.plot(split_sets, test_results, 'r', label='Test AUC')\n",
    "\n",
    "plt.legend(handler_map={line1: HandlerLine2D(numpoints=2)})\n",
    "plt.ylabel('AUC score')\n",
    "plt.xlabel('% of training sets wrt total samples')\n",
    "plt.show()"
   ]
  },
  {
   "cell_type": "markdown",
   "metadata": {},
   "source": [
    "We can clearly see how our decision tree performs better when the training set consists of 80% of the total samples.\n"
   ]
  },
  {
   "cell_type": "markdown",
   "metadata": {},
   "source": [
    "## Criterion/splitter tuning\n",
    "\n",
    "If we take a look at [the scikit-learn documentation for the decision tree classifiers](https://scikit-learn.org/stable/modules/generated/sklearn.tree.DecisionTreeClassifier.html), we can see that there are many parameters available. The first two are the `criterion` and `splitter`, having both two possible values. The supported criteria are `gini` (for [Gini impurity](https://en.wikipedia.org/wiki/Decision_tree_learning#Gini_impurity)) and `entropy` (for [information gain](https://en.wikipedia.org/wiki/Information_gain_in_decision_trees)); supported strategies for splitting a node are `best` and `random`.\n",
    "\n",
    "In total, we have 4 possible combinations of models, let's try these combinations to check which performs better."
   ]
  },
  {
   "cell_type": "code",
   "execution_count": 40,
   "metadata": {},
   "outputs": [
    {
     "name": "stdout",
     "output_type": "stream",
     "text": [
      "Test AUC for 'gini, best':        0.943019088305413\n",
      "Test AUC for 'gini, random':      0.940023040368646\n",
      "Test AUC for 'entropy, best':     0.9579833277332437\n",
      "Test AUC for 'entropy, random':   0.9479991679866879\n"
     ]
    }
   ],
   "source": [
    "# AUC scores for test\n",
    "results = []\n",
    "\n",
    "# gini, best: default classifier\n",
    "classifier = tree.DecisionTreeClassifier(criterion=\"gini\",splitter=\"best\")\n",
    "classifier.fit(training_inputs, training_outputs)\n",
    "predictions = classifier.predict(test_inputs)\n",
    "false_positive_rate, true_positive_rate, thresholds = \\\n",
    "    metrics.roc_curve(test_outputs, predictions)\n",
    "roc_auc = metrics.auc(false_positive_rate, true_positive_rate)\n",
    "results.append(roc_auc)\n",
    "\n",
    "# gini, random\n",
    "classifier = tree.DecisionTreeClassifier(criterion=\"gini\",splitter=\"random\")\n",
    "classifier.fit(training_inputs, training_outputs)\n",
    "predictions = classifier.predict(test_inputs)\n",
    "false_positive_rate, true_positive_rate, thresholds = \\\n",
    "    metrics.roc_curve(test_outputs, predictions)\n",
    "roc_auc = metrics.auc(false_positive_rate, true_positive_rate)\n",
    "results.append(roc_auc)\n",
    "\n",
    "# entropy, best\n",
    "classifier = tree.DecisionTreeClassifier(criterion=\"entropy\",splitter=\"best\")\n",
    "classifier.fit(training_inputs, training_outputs)\n",
    "predictions = classifier.predict(test_inputs)\n",
    "false_positive_rate, true_positive_rate, thresholds = \\\n",
    "    metrics.roc_curve(test_outputs, predictions)\n",
    "roc_auc = metrics.auc(false_positive_rate, true_positive_rate)\n",
    "results.append(roc_auc)\n",
    "\n",
    "# entropy, random\n",
    "classifier = tree.DecisionTreeClassifier(criterion=\"entropy\",splitter=\"random\")\n",
    "classifier.fit(training_inputs, training_outputs)\n",
    "predictions = classifier.predict(test_inputs)\n",
    "false_positive_rate, true_positive_rate, thresholds = \\\n",
    "    metrics.roc_curve(test_outputs, predictions)\n",
    "roc_auc = metrics.auc(false_positive_rate, true_positive_rate)\n",
    "results.append(roc_auc)\n",
    "\n",
    "print(\"Test AUC for 'gini, best':       \",results[0])\n",
    "print(\"Test AUC for 'gini, random':     \",results[1])\n",
    "print(\"Test AUC for 'entropy, best':    \",results[2])\n",
    "print(\"Test AUC for 'entropy, random':  \",results[3])\n",
    "\n"
   ]
  },
  {
   "cell_type": "markdown",
   "metadata": {},
   "source": [
    "After one iteration, the best results are achieved when using `entropy` as criterion and `best` as splitter; however it is generally advisable to compare the performance on multiple iterations.\n"
   ]
  },
  {
   "cell_type": "markdown",
   "metadata": {},
   "source": [
    "## Tuning: max depth\n",
    "\n",
    "The next parameter of the decision tree that we can tune is `max_depth`, which indicates the maximum depth of the tree. By default, this is is set to `None`, which means that nodes are expanded until all  leaves are pure or contain less than `min_sample_split` samples.\n",
    "\n",
    "Considering that we have 48 parameters, we will test the performances of trees having `max_depths` between 1 and 48.\n"
   ]
  },
  {
   "cell_type": "code",
   "execution_count": 41,
   "metadata": {},
   "outputs": [],
   "source": [
    "# AUC scores for training and test\n",
    "training_results = []\n",
    "test_results = []\n",
    "\n",
    "# from 1 to 48\n",
    "max_depths = range(1,49)\n",
    "\n",
    "for i in max_depths:\n",
    "\n",
    "    # create and train the classifier\n",
    "    classifier = tree.DecisionTreeClassifier(max_depth=i,criterion=\"entropy\")\n",
    "    classifier.fit(training_inputs, training_outputs)\n",
    "    training_predictions = classifier.predict(training_inputs)\n",
    "    false_positive_rate, true_positive_rate, thresholds = \\\n",
    "        metrics.roc_curve(training_outputs, training_predictions)\n",
    "    \n",
    "    # Calculate training AUC\n",
    "    training_roc_auc = metrics.auc(false_positive_rate, true_positive_rate)\n",
    "\n",
    "    # Add AUC score to train results\n",
    "    training_results.append(training_roc_auc)\n",
    "   \n",
    "    # Predictions on test set\n",
    "    test_predictions = classifier.predict(test_inputs)\n",
    "    false_positive_rate, true_positive_rate, thresholds = \\\n",
    "        metrics.roc_curve(test_outputs, test_predictions)\n",
    "\n",
    "    # Calculate test AUC\n",
    "    test_roc_auc = metrics.auc(false_positive_rate, true_positive_rate)\n",
    "\n",
    "    # Add AUC score to previous test results\n",
    "    test_results.append(test_roc_auc)"
   ]
  },
  {
   "cell_type": "markdown",
   "metadata": {},
   "source": [
    "Let's print a chart again to visualize the results:\n"
   ]
  },
  {
   "cell_type": "code",
   "execution_count": 42,
   "metadata": {},
   "outputs": [
    {
     "data": {
      "image/png": "[encoded data removed]",
      "text/plain": [
       "<Figure size 432x288 with 1 Axes>"
      ]
     },
     "metadata": {
      "needs_background": "light"
     },
     "output_type": "display_data"
    }
   ],
   "source": [
    "line1, = plt.plot(max_depths, training_results, 'b', label='Train AUC')\n",
    "line2, = plt.plot(max_depths, test_results, 'r', label='Test AUC')\n",
    "plt.legend(handler_map={line1: HandlerLine2D(numpoints=2)})\n",
    "plt.ylabel('AUC score')\n",
    "plt.xlabel('Tree depth')\n",
    "plt.show()"
   ]
  },
  {
   "cell_type": "markdown",
   "metadata": {},
   "source": [
    "It's possible to see that having `max_depth` more than 13 does not affect much the classifier in terms of performance regarding the test set; while having `max_depth` lower than 10 affects the AUC on both the training and test phase. "
   ]
  },
  {
   "cell_type": "markdown",
   "metadata": {},
   "source": [
    "## Tuning: min sample splits\n",
    "\n",
    "The next parameter is `min_samples_split`.\n",
    "- If `int`, it represents the minimum number of samples required to split an internal node.\n",
    "- If `float`, it is considered a fraction and `ceil(min_samples_split * len(samples))` are the minimum number of samples for each split.\n",
    "\n",
    "While the default value is 2, we will test the performance of our classifier having `min_samples_split` between 0.05 and 1.0.\n"
   ]
  },
  {
   "cell_type": "code",
   "execution_count": 43,
   "metadata": {},
   "outputs": [],
   "source": [
    "# AUC scores for training and test\n",
    "training_results = []\n",
    "test_results = []\n",
    "\n",
    "# from 5% to 100%\n",
    "min_samples_splits = np.linspace(0.05, 1.0,20,endpoint=True)\n",
    "\n",
    "for min_samples_split in min_samples_splits:\n",
    "\n",
    "    # create and train the classifier\n",
    "    classifier = tree.DecisionTreeClassifier(min_samples_split=min_samples_split)\n",
    "    classifier.fit(training_inputs, training_outputs)\n",
    "    training_predictions = classifier.predict(training_inputs)\n",
    "    false_positive_rate, true_positive_rate, thresholds = \\\n",
    "        metrics.roc_curve(training_outputs, training_predictions)\n",
    "\n",
    "    # Calculate training AUC\n",
    "    training_roc_auc = metrics.auc(false_positive_rate, true_positive_rate)\n",
    "\n",
    "    # Add AUC score to train results\n",
    "    training_results.append(training_roc_auc)\n",
    "\n",
    "    # Predictions on test set\n",
    "    test_predictions = classifier.predict(test_inputs)\n",
    "    false_positive_rate, true_positive_rate, thresholds = \\\n",
    "        metrics.roc_curve(test_outputs, test_predictions)\n",
    "    test_roc_auc = metrics.auc(false_positive_rate, true_positive_rate)\n",
    "\n",
    "    # Add AUC score to previous test results\n",
    "    test_results.append(test_roc_auc)\n"
   ]
  },
  {
   "cell_type": "markdown",
   "metadata": {},
   "source": [
    "Again, let's visualize the results with a line chart:\n"
   ]
  },
  {
   "cell_type": "code",
   "execution_count": 44,
   "metadata": {},
   "outputs": [
    {
     "data": {
      "image/png": "[encoded data removed]",
      "text/plain": [
       "<Figure size 432x288 with 1 Axes>"
      ]
     },
     "metadata": {
      "needs_background": "light"
     },
     "output_type": "display_data"
    }
   ],
   "source": [
    "line1, = plt.plot(min_samples_splits, training_results, 'b', label='Train AUC')\n",
    "line2, = plt.plot(min_samples_splits, test_results, 'r', label='Test AUC')\n",
    "plt.legend(handler_map={line1: HandlerLine2D(numpoints=2)})\n",
    "plt.ylabel('AUC score')\n",
    "plt.xlabel('min samples split')\n",
    "plt.show() "
   ]
  },
  {
   "cell_type": "markdown",
   "metadata": {},
   "source": [
    "We can clearly see from the chart how increasing `min_samples_split` results in an underfitting case, where the model is not able to learn from the data.\n",
    "\n",
    "## Tuning: min samples leaf\n",
    "\n",
    "Similarly to the previous parameter `min_samples_leaf` can be:\n",
    "- `int`, and it is used to specify the minimum number of samples required to be at a leaf node\n",
    "- if `float`, it represents a fraction and `ceil(min_samples_leaf * n_samples)` are the minimum number of samples for each node\n",
    "\n",
    "By default, the value is set to 1, but we will consider the cases where it goes from 0.05 to 0.5."
   ]
  },
  {
   "cell_type": "code",
   "execution_count": 45,
   "metadata": {},
   "outputs": [
    {
     "data": {
      "image/png": "[encoded data removed]",
      "text/plain": [
       "<Figure size 432x288 with 1 Axes>"
      ]
     },
     "metadata": {
      "needs_background": "light"
     },
     "output_type": "display_data"
    }
   ],
   "source": [
    "# AUC scores for training and test\n",
    "training_results = []\n",
    "test_results = []\n",
    "\n",
    "# from 5% to 50%\n",
    "min_samples_leaves = np.linspace(0.05, 0.5, 10,endpoint=True)\n",
    "\n",
    "for min_samples_leaf in min_samples_leaves:\n",
    "\n",
    "    # create and train the classifier\n",
    "    classifier = tree.DecisionTreeClassifier(min_samples_leaf=min_samples_leaf)\n",
    "    classifier.fit(training_inputs, training_outputs)\n",
    "    training_predictions = classifier.predict(training_inputs)\n",
    "    false_positive_rate, true_positive_rate, thresholds = \\\n",
    "        metrics.roc_curve(training_outputs, training_predictions)\n",
    "    \n",
    "    # Calculate training AUC\n",
    "    training_roc_auc = metrics.auc(false_positive_rate, true_positive_rate)\n",
    "    \n",
    "    # Add AUC score to train results\n",
    "    training_results.append(training_roc_auc)\n",
    "    \n",
    "    # Predictions on test set\n",
    "    test_predictions = classifier.predict(test_inputs)\n",
    "    false_positive_rate, true_positive_rate, thresholds = \\\n",
    "        metrics.roc_curve(test_outputs, test_predictions)\n",
    "    test_roc_auc = metrics.auc(false_positive_rate, true_positive_rate)\n",
    "    \n",
    "    # Add AUC score to previous test results\n",
    "    test_results.append(test_roc_auc)\n",
    "\n",
    "line1, = plt.plot(min_samples_leaves, training_results, 'b', label='Train AUC')\n",
    "line2, = plt.plot(min_samples_leaves, test_results, 'r', label='Test AUC')\n",
    "plt.legend(handler_map={line1: HandlerLine2D(numpoints=2)})\n",
    "plt.ylabel('AUC score')\n",
    "plt.xlabel('min samples leaf')\n",
    "plt.show()\n"
   ]
  },
  {
   "cell_type": "markdown",
   "metadata": {},
   "source": [
    "Similarly to the previous parameter, increasing `min_samples_leaf` cause our model to underfit.\n",
    "\n",
    "## Tuning: max features\n",
    "\n",
    "The last parameter we are going to consider is `max_features`, which specifies the number of features to consider when looking for the best split.\n",
    "\n",
    "- If `int`, then consider `max_features` features at each split.\n",
    "- If `float`, is a fraction and `int(max_features * n_features)` features are considered at each split.\n",
    "- By default it is `None`, and `max_features=n_features`\n",
    "\n",
    "We will consider between 1 and 48 features."
   ]
  },
  {
   "cell_type": "code",
   "execution_count": 46,
   "metadata": {},
   "outputs": [
    {
     "data": {
      "image/png": "[encoded data removed]",
      "text/plain": [
       "<Figure size 432x288 with 1 Axes>"
      ]
     },
     "metadata": {
      "needs_background": "light"
     },
     "output_type": "display_data"
    }
   ],
   "source": [
    "# AUC scores for training and test\n",
    "training_results = []\n",
    "test_results = []\n",
    "\n",
    "# from 1 to 48 features\n",
    "max_features = list(range(1,len(training_inputs[0])+1))\n",
    "\n",
    "for max_feature in max_features:\n",
    "    classifier = tree.DecisionTreeClassifier(max_features=max_feature)\n",
    "    classifier.fit(training_inputs, training_outputs)\n",
    "    training_predictions = classifier.predict(training_inputs)\n",
    "    false_positive_rate, true_positive_rate, thresholds = \\\n",
    "        metrics.roc_curve(training_outputs, training_predictions)\n",
    "    \n",
    "    # Calculate training AUC\n",
    "    training_roc_auc = metrics.auc(false_positive_rate, true_positive_rate)\n",
    "    \n",
    "    # Add AUC score to train results\n",
    "    training_results.append(training_roc_auc)\n",
    "    \n",
    "    # Predictions on test set\n",
    "    test_predictions = classifier.predict(test_inputs)\n",
    "    false_positive_rate, true_positive_rate, thresholds = \\\n",
    "        metrics.roc_curve(test_outputs, test_predictions)\n",
    "    test_roc_auc = metrics.auc(false_positive_rate, true_positive_rate)\n",
    "    \n",
    "    # Add AUC score to previous test results\n",
    "    test_results.append(test_roc_auc)\n",
    "\n",
    "line1, = plt.plot(max_features, training_results, 'b', label='Train AUC')\n",
    "line2, = plt.plot(max_features, test_results, 'r', label='Test AUC')\n",
    "plt.legend(handler_map={line1: HandlerLine2D(numpoints=2)})\n",
    "plt.ylabel('AUC score')\n",
    "plt.xlabel('max features')\n",
    "plt.show()"
   ]
  },
  {
   "cell_type": "markdown",
   "metadata": {},
   "source": [
    "We can see how our model does not seems to improve after considering more than 18 features, while this may seem counter-intuitive, the scikit-learn documentation specifies that '*the search for a split does not stop until at least one valid partition of the node samples is found, even if it requires to effectively inspect more than max_features features*.'\n"
   ]
  }
 ],
 "metadata": {
  "kernelspec": {
   "display_name": "Python 3",
   "language": "python",
   "name": "python3"
  },
  "language_info": {
   "codemirror_mode": {
    "name": "ipython",
    "version": 3
   },
   "file_extension": ".py",
   "mimetype": "text/x-python",
   "name": "python",
   "nbconvert_exporter": "python",
   "pygments_lexer": "ipython3",
   "version": "3.8.2"
  }
 },
 "nbformat": 4,
 "nbformat_minor": 2
}
