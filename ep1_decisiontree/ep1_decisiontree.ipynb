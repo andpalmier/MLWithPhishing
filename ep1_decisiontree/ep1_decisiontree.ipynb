{
 "cells": [
  {
   "cell_type": "markdown",
   "metadata": {},
   "source": [
    "## A simple-but-effective decision tree\n",
    "\n",
    "Let's start with importing the libraries and the data. I used a csv version of the dataset, which you can find [here](https://github.com/andpalmier/MLWithPhishing).\n"
   ]
  },
  {
   "cell_type": "code",
   "execution_count": 2,
   "metadata": {},
   "outputs": [],
   "source": [
    "import numpy as np\n",
    "from sklearn import tree\n",
    "from matplotlib.legend_handler import HandlerLine2D\n",
    "import matplotlib.pyplot as plt\n",
    "import plotly.express as px\n",
    "\n",
    "# Load the training data from a CSV file\n",
    "training_data = np.genfromtxt('phishing_smaller.csv', delimiter=',', dtype=np.int32)"
   ]
  },
  {
   "cell_type": "markdown",
   "metadata": {},
   "source": [
    "The csv has 10.000 samples with 11 columns, where the last one is the label of the sample, while the other values are the features."
   ]
  },
  {
   "cell_type": "code",
   "execution_count": 3,
   "metadata": {},
   "outputs": [],
   "source": [
    "# inputs are in all columns except the last one\n",
    "inputs = training_data[:,:-1]\n",
    "\n",
    "# outputs in the last column\n",
    "outputs = training_data[:, -1]"
   ]
  },
  {
   "cell_type": "markdown",
   "metadata": {},
   "source": [
    "We will use `StratifiedKFold` to keep the frequency of the classes constant during our K-fold cross-validation. The `random_state` parameter is used for k-fold and the classifier to reproduce the same setup for all the iterations of the model."
   ]
  },
  {
   "cell_type": "code",
   "execution_count": 4,
   "metadata": {},
   "outputs": [],
   "source": [
    "from sklearn.model_selection import StratifiedKFold\n",
    "\n",
    "# use 10-fold\n",
    "skf = StratifiedKFold(n_splits=10, random_state=0, shuffle=True)"
   ]
  },
  {
   "cell_type": "markdown",
   "metadata": {},
   "source": [
    "In order to evaluate how good is our classifier, I will use AUC (Area Under Curve), you can find more information about it [in this video](https://www.youtube.com/watch?v=OAl6eAyP-yo).\n",
    "\n",
    "Here is how to create, train and evaulate our decision tree:"
   ]
  },
  {
   "cell_type": "code",
   "execution_count": 5,
   "metadata": {},
   "outputs": [
    {
     "name": "stdout",
     "output_type": "stream",
     "text": [
      "ROC AUC: 0.9182929859719439\n"
     ]
    }
   ],
   "source": [
    "# library for evaluating the classifier\n",
    "import sklearn.metrics as metrics\n",
    "\n",
    "# array to store the accuracy during k-fold cross-validation\n",
    "accuracy = np.array([])\n",
    "\n",
    "# loop with splits\n",
    "for train_index, test_index in skf.split(inputs, outputs):\n",
    "    \n",
    "    # 9 folds used for training\n",
    "    X_train, X_test = inputs[train_index], inputs[test_index]\n",
    "    # 1 fold for testing\n",
    "    y_train, y_test = outputs[train_index], outputs[test_index]\n",
    "\n",
    "    # Create a decision tree classifier \n",
    "    classifier = tree.DecisionTreeClassifier(random_state=0)\n",
    "    \n",
    "    # Train the classifier\n",
    "    classifier.fit(X_train, y_train)\n",
    "    \n",
    "    # Test the classifier\n",
    "    predictions = classifier.predict(X_test)\n",
    "    false_positive_rate, true_positive_rate, thresholds = \\\n",
    "        metrics.roc_curve(y_test, predictions)\n",
    "    # calculate classifier accuracy\n",
    "    ROC_AUC = metrics.auc(false_positive_rate, true_positive_rate)\n",
    "    accuracy = np.append(accuracy,ROC_AUC)\n",
    "    \n",
    "print(\"ROC AUC: \"+str(np.mean(accuracy)))"
   ]
  },
  {
   "cell_type": "markdown",
   "metadata": {},
   "source": [
    "Not bad, but can we improve the accuracy of this decision tree with some tuning?"
   ]
  },
  {
   "cell_type": "markdown",
   "metadata": {},
   "source": [
    "## Criterion/splitter tuning\n",
    "\n",
    "If we take a look at [the scikit-learn documentation for the decision tree classifiers](https://scikit-learn.org/stable/modules/generated/sklearn.tree.DecisionTreeClassifier.html), we can see that there are many parameters available. The first two are the `criterion` and `splitter`, having both two possible values. The supported criteria are `gini` (for [Gini impurity](https://en.wikipedia.org/wiki/Decision_tree_learning#Gini_impurity)) and `entropy` (for [information gain](https://en.wikipedia.org/wiki/Information_gain_in_decision_trees)); while the supported strategies available for splitting a node are `best` and `random`.\n",
    "\n",
    "In total, we have 4 possible combinations: let's try them to check which one performs better."
   ]
  },
  {
   "cell_type": "code",
   "execution_count": 6,
   "metadata": {},
   "outputs": [
    {
     "name": "stdout",
     "output_type": "stream",
     "text": [
      "Test AUC for 'gini, best':        0.9182929859719439\n",
      "Test AUC for 'gini, random':      0.9181927855711424\n",
      "Test AUC for 'entropy, best':     0.9180925851703409\n",
      "Test AUC for 'entropy, random':   0.9182929859719439\n"
     ]
    }
   ],
   "source": [
    "# AUC scores for test\n",
    "results = []\n",
    "\n",
    "# First= gini, best: default classifier\n",
    "first_classifier = tree.DecisionTreeClassifier(random_state=0 \\\n",
    "    ,criterion=\"gini\",splitter=\"best\")\n",
    "first_accuracy = np.array([])\n",
    "\n",
    "# Second= gini, random\n",
    "second_classifier = tree.DecisionTreeClassifier(random_state=0 \\\n",
    "    ,criterion=\"gini\",splitter=\"random\")\n",
    "second_accuracy = np.array([])\n",
    "\n",
    "# Third= entropy, best\n",
    "third_classifier = tree.DecisionTreeClassifier(random_state=0 \\\n",
    "    ,criterion=\"entropy\",splitter=\"best\")\n",
    "third_accuracy = np.array([])\n",
    "\n",
    "# Fourth= entropy, random\n",
    "fourth_classifier = tree.DecisionTreeClassifier(random_state=0 \\\n",
    "    ,criterion=\"entropy\",splitter=\"random\")\n",
    "fourth_accuracy = np.array([])\n",
    "\n",
    "# use same folds\n",
    "StratifiedKFold(n_splits=10, random_state=0, shuffle=True)\n",
    "for train_index, test_index in skf.split(inputs, outputs):\n",
    "    \n",
    "    X_train, X_test = inputs[train_index], inputs[test_index]\n",
    "    y_train, y_test = outputs[train_index], outputs[test_index]\n",
    "    \n",
    "    # Train and test the first classifier\n",
    "    first_classifier.fit(X_train, y_train)\n",
    "    predictions = first_classifier.predict(X_test)\n",
    "    false_positive_rate, true_positive_rate, thresholds = \\\n",
    "        metrics.roc_curve(y_test, predictions)\n",
    "    # calculate classifier accuracy\n",
    "    ROC_AUC = metrics.auc(false_positive_rate, true_positive_rate)\n",
    "    first_accuracy = np.append(first_accuracy,ROC_AUC)\n",
    "    \n",
    "    # Train and test the second classifier\n",
    "    second_classifier.fit(X_train, y_train)\n",
    "    predictions = second_classifier.predict(X_test)\n",
    "    false_positive_rate, true_positive_rate, thresholds = \\\n",
    "        metrics.roc_curve(y_test, predictions)\n",
    "    # calculate classifier accuracy\n",
    "    ROC_AUC = metrics.auc(false_positive_rate, true_positive_rate)\n",
    "    second_accuracy= np.append(second_accuracy,ROC_AUC)\n",
    "    \n",
    "    # Train and test the third classifier\n",
    "    third_classifier.fit(X_train, y_train)\n",
    "    predictions = third_classifier.predict(X_test)\n",
    "    false_positive_rate, true_positive_rate, thresholds = \\\n",
    "        metrics.roc_curve(y_test, predictions)\n",
    "    # calculate classifier accuracy\n",
    "    ROC_AUC = metrics.auc(false_positive_rate, true_positive_rate)\n",
    "    third_accuracy= np.append(third_accuracy,ROC_AUC)\n",
    "    \n",
    "    # Train and test the fourth classifier\n",
    "    fourth_classifier.fit(X_train, y_train)\n",
    "    predictions = fourth_classifier.predict(X_test)\n",
    "    false_positive_rate, true_positive_rate, thresholds = \\\n",
    "        metrics.roc_curve(y_test, predictions)\n",
    "    # calculate classifier accuracy\n",
    "    ROC_AUC = metrics.auc(false_positive_rate, true_positive_rate)\n",
    "    fourth_accuracy= np.append(fourth_accuracy,ROC_AUC)\n",
    "    \n",
    "    \n",
    "print(\"Test AUC for 'gini, best':       \",np.mean(first_accuracy))\n",
    "print(\"Test AUC for 'gini, random':     \",np.mean(second_accuracy))\n",
    "print(\"Test AUC for 'entropy, best':    \",np.mean(third_accuracy))\n",
    "print(\"Test AUC for 'entropy, random':  \",np.mean(fourth_accuracy))"
   ]
  },
  {
   "cell_type": "markdown",
   "metadata": {},
   "source": [
    "In this case, the criterion and splitter seems to not affect much the performance of the classifier (the maximum difference is below 0,1%)."
   ]
  },
  {
   "cell_type": "markdown",
   "metadata": {},
   "source": [
    "## Tuning: max depth\n",
    "\n",
    "Another parameter of the decision tree that we can tune is `max_depth`, which indicates the maximum depth of the tree. By default, this is is set to `None`, which means that nodes are expanded until all leaves are pure or contain less than `min_sample_split` samples.\n",
    "\n",
    "Considering that we have 10 parameters, we will test the performances of trees having `max_depths` between 1 and 10.\n"
   ]
  },
  {
   "cell_type": "code",
   "execution_count": 7,
   "metadata": {},
   "outputs": [],
   "source": [
    "# AUC scores for training and test\n",
    "training_results = []\n",
    "test_results = []\n",
    "\n",
    "# use same folds\n",
    "StratifiedKFold(n_splits=10, random_state=0, shuffle=True)\n",
    "\n",
    "# from 1 to 10\n",
    "max_depths = range(1,11)\n",
    "\n",
    "for i in max_depths:\n",
    "    \n",
    "    # loop with splits\n",
    "    for train_index, test_index in skf.split(inputs, outputs):\n",
    "        training_accuracy = np.array([])\n",
    "        test_accuracy = np.array([])\n",
    "        \n",
    "        X_train, X_test = inputs[train_index], inputs[test_index]\n",
    "        y_train, y_test = outputs[train_index], outputs[test_index]\n",
    "        \n",
    "        # Create a decision tree classifier\n",
    "        classifier = tree.DecisionTreeClassifier(random_state=0,max_depth=i)\n",
    "    \n",
    "        # Train the classifier\n",
    "        classifier.fit(X_train, y_train)\n",
    "        \n",
    "        # Accuracy of the classifier during training\n",
    "        training_predictions = classifier.predict(X_train)\n",
    "        false_positive_rate, true_positive_rate, thresholds = \\\n",
    "            metrics.roc_curve(y_train, training_predictions)\n",
    "        ROC_AUC = metrics.auc(false_positive_rate, true_positive_rate)\n",
    "        training_accuracy = np.append(training_accuracy,ROC_AUC)\n",
    "        \n",
    "        # Test the classifier\n",
    "        testing_predictions = classifier.predict(X_test)\n",
    "        false_positive_rate, true_positive_rate, thresholds = \\\n",
    "            metrics.roc_curve(y_test, testing_predictions)\n",
    "        \n",
    "        # Accuracy of the classifier during test\n",
    "        ROC_AUC = metrics.auc(false_positive_rate, true_positive_rate)\n",
    "        test_accuracy = np.append(test_accuracy,ROC_AUC)\n",
    "        \n",
    "    # append results with line chart\n",
    "    training_results.append(np.mean(training_accuracy))\n",
    "    test_results.append(np.mean(test_accuracy))"
   ]
  },
  {
   "cell_type": "markdown",
   "metadata": {},
   "source": [
    "In order to visualize the results, let's use `matplotlib` to draw a line chart."
   ]
  },
  {
   "cell_type": "code",
   "execution_count": 9,
   "metadata": {},
   "outputs": [
    {
     "data": {
      "image/png": "[encoded data removed]",
      "text/plain": [
       "<Figure size 432x288 with 1 Axes>"
      ]
     },
     "metadata": {
      "needs_background": "light"
     },
     "output_type": "display_data"
    }
   ],
   "source": [
    "# training results in blue\n",
    "line1, = plt.plot(max_depths, training_results, 'b', label='Train AUC')\n",
    "# test results in red\n",
    "line2, = plt.plot(max_depths, test_results, 'r', label='Test AUC')\n",
    "plt.legend(handler_map={line1: HandlerLine2D(numpoints=2)})\n",
    "plt.ylabel('AUC score')\n",
    "plt.xlabel('Tree depth')\n",
    "plt.show()"
   ]
  },
  {
   "cell_type": "markdown",
   "metadata": {},
   "source": [
    "As expected, increasing `max_depth` allows the model to be more specific when predicting the class of the given sample, thus improving the accuracy during training and test."
   ]
  },
  {
   "cell_type": "markdown",
   "metadata": {},
   "source": [
    "## Tuning: min sample splits\n",
    "\n",
    "The next parameter is `min_samples_split`:\n",
    "- If `int`, it represents the minimum number of samples required to split an internal node.\n",
    "- If `float`, it is considered a fraction and `ceil(min_samples_split * len(samples))` are the minimum number of samples for each split.\n",
    "\n",
    "While the default value is 2, we will test the performance of our classifier having `min_samples_split` between 0.05 and 1.0.\n"
   ]
  },
  {
   "cell_type": "code",
   "execution_count": 10,
   "metadata": {},
   "outputs": [],
   "source": [
    "# AUC scores for training and test\n",
    "training_results = []\n",
    "test_results = []\n",
    "\n",
    "# use same folds\n",
    "StratifiedKFold(n_splits=10, random_state=0, shuffle=True)\n",
    "\n",
    "# from 5% to 100%\n",
    "min_samples_splits = np.linspace(0.05, 1.0,20,endpoint=True)\n",
    "\n",
    "for i in min_samples_splits:\n",
    "\n",
    "    # loop with splits\n",
    "    for train_index, test_index in skf.split(inputs, outputs):\n",
    "        training_accuracy = np.array([])\n",
    "        test_accuracy = np.array([])\n",
    "        X_train, X_test = inputs[train_index], inputs[test_index]\n",
    "        y_train, y_test = outputs[train_index], outputs[test_index]\n",
    "        \n",
    "        # Create a decision tree classifier\n",
    "        classifier = tree.DecisionTreeClassifier(random_state=0,min_samples_split=i)\n",
    "        \n",
    "        # Train the classifier\n",
    "        classifier.fit(X_train, y_train)\n",
    "        \n",
    "        # Accuracy of the classifier during training\n",
    "        training_predictions = classifier.predict(X_train)\n",
    "        false_positive_rate, true_positive_rate, thresholds = \\\n",
    "            metrics.roc_curve(y_train, training_predictions)\n",
    "        ROC_AUC = metrics.auc(false_positive_rate, true_positive_rate)\n",
    "        training_accuracy = np.append(training_accuracy,ROC_AUC)\n",
    "        \n",
    "        # Test the classifier\n",
    "        testing_predictions = classifier.predict(X_test)\n",
    "        false_positive_rate, true_positive_rate, thresholds = \\\n",
    "            metrics.roc_curve(y_test, testing_predictions)\n",
    "        \n",
    "        # Accuracy of the classifier during test\n",
    "        ROC_AUC = metrics.auc(false_positive_rate, true_positive_rate)\n",
    "        test_accuracy = np.append(test_accuracy,ROC_AUC)\n",
    "    \n",
    "    # append results for line chart\n",
    "    training_results.append(np.mean(training_accuracy))\n",
    "    test_results.append(np.mean(test_accuracy))"
   ]
  },
  {
   "cell_type": "markdown",
   "metadata": {},
   "source": [
    "Again, let's visualize the results with a line chart:\n"
   ]
  },
  {
   "cell_type": "code",
   "execution_count": 11,
   "metadata": {},
   "outputs": [
    {
     "data": {
      "image/png": "[encoded data removed]",
      "text/plain": [
       "<Figure size 432x288 with 1 Axes>"
      ]
     },
     "metadata": {
      "needs_background": "light"
     },
     "output_type": "display_data"
    }
   ],
   "source": [
    "# plot line chart\n",
    "line1, = plt.plot(min_samples_splits, training_results, 'b', label='Train AUC')\n",
    "line2, = plt.plot(min_samples_splits, test_results, 'r', label='Test AUC')\n",
    "plt.legend(handler_map={line1: HandlerLine2D(numpoints=2)})\n",
    "plt.ylabel('AUC score')\n",
    "plt.xlabel('min samples split')\n",
    "plt.show() "
   ]
  },
  {
   "cell_type": "markdown",
   "metadata": {},
   "source": [
    "We can clearly see from the chart how increasing `min_samples_split` results in an underfitting case, where the model is not able to learn from the samples during training.\n",
    "\n",
    "## Tuning: min samples leaf\n",
    "\n",
    "Similarly to the previous parameter, `min_samples_leaf` can be:\n",
    "- `int`, and it is used to specify the minimum number of samples required to be at a leaf node\n",
    "- if `float`, it represents a fraction and `ceil(min_samples_leaf * n_samples)` are the minimum number of samples for each node\n",
    "\n",
    "By default, the value is set to 1, but we will consider the cases where it goes from 0.05 to 0.5."
   ]
  },
  {
   "cell_type": "code",
   "execution_count": 12,
   "metadata": {},
   "outputs": [
    {
     "data": {
      "image/png": "[encoded data removed]",
      "text/plain": [
       "<Figure size 432x288 with 1 Axes>"
      ]
     },
     "metadata": {
      "needs_background": "light"
     },
     "output_type": "display_data"
    }
   ],
   "source": [
    "# AUC scores for training and test\n",
    "training_results = []\n",
    "test_results = []\n",
    "\n",
    "# from 5% to 50%\n",
    "min_samples_leaves = np.linspace(0.05, 0.5, 10,endpoint=True)\n",
    "\n",
    "for i in min_samples_leaves:\n",
    "    \n",
    "    StratifiedKFold(n_splits=10, random_state=0, shuffle=True)\n",
    "    \n",
    "    # loop with splits\n",
    "    for train_index, test_index in skf.split(inputs, outputs):\n",
    "        training_accuracy = np.array([])\n",
    "        test_accuracy = np.array([])\n",
    "        X_train, X_test = inputs[train_index], inputs[test_index]\n",
    "        y_train, y_test = outputs[train_index], outputs[test_index]\n",
    "        \n",
    "        # Create a decision tree classifier \n",
    "        classifier = tree.DecisionTreeClassifier(random_state=0, min_samples_leaf=i)\n",
    "        \n",
    "        # Train the classifier\n",
    "        classifier.fit(X_train, y_train)\n",
    "        \n",
    "        # Accuracy of the classifier during training\n",
    "        training_predictions = classifier.predict(X_train)\n",
    "        false_positive_rate, true_positive_rate, thresholds = \\\n",
    "            metrics.roc_curve(y_train, training_predictions)\n",
    "        ROC_AUC = metrics.auc(false_positive_rate, true_positive_rate)\n",
    "        training_accuracy = np.append(training_accuracy,ROC_AUC)\n",
    "        \n",
    "        # Test the classifier\n",
    "        testing_predictions = classifier.predict(X_test)\n",
    "        false_positive_rate, true_positive_rate, thresholds = \\\n",
    "            metrics.roc_curve(y_test, testing_predictions)\n",
    "        \n",
    "        # Accuracy of the classifier during test\n",
    "        ROC_AUC = metrics.auc(false_positive_rate, true_positive_rate)\n",
    "        test_accuracy = np.append(test_accuracy,ROC_AUC)\n",
    "    \n",
    "    # append results for line chart\n",
    "    training_results.append(np.mean(training_accuracy))\n",
    "    test_results.append(np.mean(test_accuracy))\n",
    "\n",
    "# print line chart\n",
    "line1, = plt.plot(min_samples_leaves, training_results, 'b', label='Train AUC')\n",
    "line2, = plt.plot(min_samples_leaves, test_results, 'r', label='Test AUC')\n",
    "plt.legend(handler_map={line1: HandlerLine2D(numpoints=2)})\n",
    "plt.ylabel('AUC score')\n",
    "plt.xlabel('min samples leaf')\n",
    "plt.show()"
   ]
  },
  {
   "cell_type": "markdown",
   "metadata": {},
   "source": [
    "We can see that, similarly to the tuning of `min_samples_split`, increasing `min_samples_leaf` cause our model to underfit, drastically affecting the accuracy of the classifier during training and test.\n",
    "\n",
    "## Tuning: max features\n",
    "\n",
    "The last parameter we are going to consider is `max_features`, which specifies the number of features to consider when looking for the best split.\n",
    "\n",
    "- If `int`, then consider `max_features` features at each split.\n",
    "- If `float`, is a fraction and `int(max_features * n_features)` features are considered at each split.\n",
    "- By default it is `None`, and `max_features=n_features`\n",
    "\n",
    "Considering the number of features of our dataset, we will test measure the precision of classifiers having `max_features` between 1 and 10."
   ]
  },
  {
   "cell_type": "code",
   "execution_count": 13,
   "metadata": {},
   "outputs": [
    {
     "data": {
      "image/png": "[encoded data removed]",
      "text/plain": [
       "<Figure size 432x288 with 1 Axes>"
      ]
     },
     "metadata": {
      "needs_background": "light"
     },
     "output_type": "display_data"
    }
   ],
   "source": [
    "# AUC scores for training and test\n",
    "training_results = []\n",
    "test_results = []\n",
    "\n",
    "# from 1 to 10 features\n",
    "max_features = list(range(1,len(inputs[0])+1))\n",
    "\n",
    "for i in max_features:\n",
    "    \n",
    "    StratifiedKFold(n_splits=10, random_state=0, shuffle=True)\n",
    "    \n",
    "    # loop with splits\n",
    "    for train_index, test_index in skf.split(inputs, outputs):\n",
    "        training_accuracy = np.array([])\n",
    "        test_accuracy = np.array([])\n",
    "        X_train, X_test = inputs[train_index], inputs[test_index]\n",
    "        y_train, y_test = outputs[train_index], outputs[test_index]\n",
    "        \n",
    "        # Create a decision tree classifier\n",
    "        classifier = tree.DecisionTreeClassifier(random_state=0,max_features=i)\n",
    "        \n",
    "        # Train the classifier\n",
    "        classifier.fit(X_train, y_train)\n",
    "        \n",
    "        # Accuracy of the classifier during training\n",
    "        training_predictions = classifier.predict(X_train)\n",
    "        false_positive_rate, true_positive_rate, thresholds = \\\n",
    "            metrics.roc_curve(y_train, training_predictions)\n",
    "        ROC_AUC = metrics.auc(false_positive_rate, true_positive_rate)\n",
    "        training_accuracy = np.append(training_accuracy,ROC_AUC)\n",
    "        \n",
    "        # Test the classifier\n",
    "        testing_predictions = classifier.predict(X_test)\n",
    "        false_positive_rate, true_positive_rate, thresholds = \\\n",
    "            metrics.roc_curve(y_test, testing_predictions)\n",
    "        \n",
    "        # Accuracy of the classifier during test\n",
    "        ROC_AUC = metrics.auc(false_positive_rate, true_positive_rate)\n",
    "        test_accuracy = np.append(test_accuracy,ROC_AUC)\n",
    "   \n",
    "    # append results for line chart\n",
    "    training_results.append(np.mean(training_accuracy))\n",
    "    test_results.append(np.mean(test_accuracy))\n",
    "\n",
    "# print line chart\n",
    "line1, = plt.plot(max_features, training_results, 'b', label='Train AUC')\n",
    "line2, = plt.plot(max_features, test_results, 'r', label='Test AUC')\n",
    "plt.legend(handler_map={line1: HandlerLine2D(numpoints=2)})\n",
    "plt.ylabel('AUC score')\n",
    "plt.xlabel('max features')\n",
    "plt.show()\n"
   ]
  },
  {
   "cell_type": "markdown",
   "metadata": {},
   "source": [
    "We can see how the accuracy of the model does not seems to improve much when increasing the number of features considered during a split. While this may seem counter-intuitive, the scikit-learn documentation specifies that '*the search for a split does not stop until at least one valid partition of the node samples is found, even if it requires to effectively inspect more than max_features features*.'\n"
   ]
  },
  {
   "cell_type": "markdown",
   "metadata": {},
   "source": [
    "## Conclusion\n",
    "\n",
    "These posts will investigate how tuning some of the available parameters can affect the performance of simple models. In this case, we saw how `criterion`, `splitter`, `max_depth`, `min_samples_split`, `min_samples_leaf` and `max_features` alter the predictions of a decision tree.\n",
    "\n",
    "As pointed out from a friend, this is not the proper way of tuning the parameters of a model: you should use something like [RandomizedSearchCV](https://scikit-learn.org/stable/modules/generated/sklearn.model_selection.RandomizedSearchCV.html) instead.\n"
   ]
  }
 ],
 "metadata": {
  "kernelspec": {
   "display_name": "Python 3",
   "language": "python",
   "name": "python3"
  },
  "language_info": {
   "codemirror_mode": {
    "name": "ipython",
    "version": 3
   },
   "file_extension": ".py",
   "mimetype": "text/x-python",
   "name": "python",
   "nbconvert_exporter": "python",
   "pygments_lexer": "ipython3",
   "version": "3.9.3"
  }
 },
 "nbformat": 4,
 "nbformat_minor": 2
}
